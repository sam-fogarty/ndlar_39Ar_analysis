{
 "cells": [
  {
   "cell_type": "code",
   "execution_count": 1,
   "id": "4bfbcc37",
   "metadata": {},
   "outputs": [
    {
     "name": "stdout",
     "output_type": "stream",
     "text": [
      "Welcome to JupyROOT 6.22/09\n"
     ]
    }
   ],
   "source": [
    "import ROOT\n",
    "import matplotlib.pyplot as plt\n",
    "import numpy as np"
   ]
  },
  {
   "cell_type": "code",
   "execution_count": 73,
   "id": "2ba333e0",
   "metadata": {},
   "outputs": [
    {
     "name": "stdout",
     "output_type": "stream",
     "text": [
      "nbins =  100\n",
      "Number of points in graph =  2755\n",
      "Bin size =  27.54  keV\n",
      "x range =  2754.0\n",
      "Reached end of array, breaking out of loop.\n"
     ]
    }
   ],
   "source": [
    "folder_path = '/sdf/group/neutrino/sfogarty/ND_prototype_files/MC/input_spectra/ROOT/'\n",
    "file_name = 'Cobalt_60.root'\n",
    "file_path = folder_path + file_name \n",
    "root_file = ROOT.TFile.Open(file_path,\"READ\")\n",
    "\n",
    "# Get the TGraph object from the file\n",
    "graph = root_file.Get(\"Gammas\")\n",
    "\n",
    "nbins = 100\n",
    "print('nbins = ', nbins)\n",
    "nPoints = graph.GetN()\n",
    "print('Number of points in graph = ', nPoints)\n",
    "x = np.array(graph.GetX())\n",
    "y = np.array(graph.GetY())\n",
    "binsize = (x[nPoints-1] - x[0])/nbins\n",
    "print('Bin size = ', binsize, ' keV')\n",
    "print('x range = ', x[-1] - x[0])\n",
    "\n",
    "i = 0\n",
    "y_norm = y/np.sum(y)\n",
    "x_rebin = []\n",
    "y_rebin = []\n",
    "go = True\n",
    "while go:\n",
    "    try:\n",
    "        new_x = (x[i] + x[i+1] + x[i+2])/3\n",
    "        new_y = y_norm[i] + y_norm[i+1] + y_norm[i+2]\n",
    "        #new_x = np.mean(x[i] + x[i+1] + x[i+2] + x[i+3])\n",
    "        #new_y = y_norm[i] + y_norm[i+1] + y_norm[i+2] + y_norm[i+3]\n",
    "        x_rebin.append(new_x)\n",
    "        y_rebin.append(new_y)\n",
    "    except:\n",
    "        print('Reached end of array, breaking out of loop.')\n",
    "        go = False\n",
    "    i = i+3\n",
    "    "
   ]
  },
  {
   "cell_type": "code",
   "execution_count": 74,
   "id": "82e7edba",
   "metadata": {},
   "outputs": [],
   "source": [
    "import os\n",
    "filepath_txt = 'Cobalt_60_gammas.mac'\n",
    "#if os.path.exists(filepath_txt):\n",
    "#    raise Exception('Output file '+ str(filepath_txt) + ' already exists.')\n",
    "f = open(filepath_txt, \"w+\")\n",
    "f.write('/edep/random/timeRandomSeed\\n')\n",
    "f.write('/edep/gdml/read /sdf/home/s/sfogarty/Desktop/LArTPC_sim/geometries/Module0.gdml\\n')\n",
    "f.write('/edep/hitLength TPCActive_shape 0.00001 mm\\n')\n",
    "f.write('/process/eLoss/StepFunction 0.2 0.001  mm\\n')\n",
    "f.write('/edep/update\\n')\n",
    "f.write('/gps/pos/type Volume\\n')\n",
    "f.write('/gps/pos/shape Para\\n')\n",
    "f.write('/gps/pos/centre 0.0 -22 0.0 cm\\n')\n",
    "f.write('/gps/pos/halfx 30.2723 cm\\n')\n",
    "f.write('/gps/pos/halfy 62.0543 cm\\n')\n",
    "f.write('/gps/pos/halfz 31.0163 cm\\n')\n",
    "f.write('/gps/ang/type iso\\n')\n",
    "f.write('/gps/particle gamma\\n')\n",
    "f.write('/gps/ene/type User\\n')\n",
    "f.write('/gps/hist/type energy\\n')\n",
    "\n",
    "for i in range(len(x_rebin)):\n",
    "    f.write('/gps/hist/point '+str(\"%.6f\" % (x_rebin[i]*1e-3))+' '+str(\"%.6f\" % y_rebin[i]) + '\\n')\n",
    "\n",
    "#f.write('/gps/hist/inter Lin')\n",
    "f.close()"
   ]
  },
  {
   "cell_type": "code",
   "execution_count": 75,
   "id": "d09db6aa",
   "metadata": {},
   "outputs": [
    {
     "data": {
      "text/plain": [
       "[<matplotlib.lines.Line2D at 0x7f320440eb50>]"
      ]
     },
     "execution_count": 75,
     "metadata": {},
     "output_type": "execute_result"
    },
    {
     "data": {
      "application/vnd.jupyter.widget-view+json": {
       "model_id": "124317426ac445fba8bacd7b39ebf2df",
       "version_major": 2,
       "version_minor": 0
      },
      "text/html": [
       "\n",
       "            <div style=\"display: inline-block;\">\n",
       "                <div class=\"jupyter-widgets widget-label\" style=\"text-align: center;\">\n",
       "                    Figure\n",
       "                </div>\n",
       "                <img src='data:image/png;base64,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' width=640.0/>\n",
       "            </div>\n",
       "        "
      ],
      "text/plain": [
       "Canvas(toolbar=Toolbar(toolitems=[('Home', 'Reset original view', 'home', 'home'), ('Back', 'Back to previous …"
      ]
     },
     "metadata": {},
     "output_type": "display_data"
    }
   ],
   "source": [
    "%matplotlib widget\n",
    "plt.plot(x_rebin, y_rebin, 'bo',markersize=1)\n",
    "#plt.plot(x_zeros, y_zeros, 'ro',markersize=1)"
   ]
  },
  {
   "cell_type": "code",
   "execution_count": 51,
   "id": "191848df",
   "metadata": {},
   "outputs": [
    {
     "data": {
      "text/plain": [
       "188"
      ]
     },
     "execution_count": 51,
     "metadata": {},
     "output_type": "execute_result"
    }
   ],
   "source": [
    "len(x_rebin)"
   ]
  },
  {
   "cell_type": "code",
   "execution_count": 10,
   "id": "1f73f4c8",
   "metadata": {},
   "outputs": [
    {
     "name": "stdout",
     "output_type": "stream",
     "text": [
      "0.048\n"
     ]
    }
   ],
   "source": [
    "start_energy = 0.200\n",
    "end_energy = 5.0\n",
    "binsize = (end_energy - start_energy)/100\n",
    "energies = np.arange(start_energy, end_energy+binsize, binsize)\n",
    "weights = 1/len(energies)\n",
    "print(binsize)"
   ]
  },
  {
   "cell_type": "code",
   "execution_count": 11,
   "id": "ee8b1466",
   "metadata": {},
   "outputs": [],
   "source": [
    "import os\n",
    "filepath_txt = '/sdf/group/neutrino/sfogarty/ND_prototype_files/MC/module-0/edep-sim/macros/flat_beta_energy_distribution_5MeV.mac'\n",
    "#if os.path.exists(filepath_txt):\n",
    "#    raise Exception('Output file '+ str(filepath_txt) + ' already exists.')\n",
    "f = open(filepath_txt, \"w+\")\n",
    "f.write('/edep/random/timeRandomSeed\\n')\n",
    "f.write('/edep/gdml/read /sdf/home/s/sfogarty/Desktop/LArTPC_sim/geometries/Module0.gdml\\n')\n",
    "f.write('/edep/hitLength TPCActive_shape 0.00001 mm\\n')\n",
    "f.write('/process/eLoss/StepFunction 0.2 0.001  mm\\n')\n",
    "f.write('/edep/update\\n')\n",
    "f.write('/gps/pos/type Volume\\n')\n",
    "f.write('/gps/pos/shape Para\\n')\n",
    "f.write('/gps/pos/centre 0.0 -22 0.0 cm\\n')\n",
    "f.write('/gps/pos/halfx 30.2723 cm\\n')\n",
    "f.write('/gps/pos/halfy 62.0543 cm\\n')\n",
    "f.write('/gps/pos/halfz 31.0163 cm\\n')\n",
    "f.write('/gps/ang/type iso\\n')\n",
    "f.write('/gps/particle e-\\n')\n",
    "f.write('/gps/ene/type User\\n')\n",
    "f.write('/gps/hist/type energy\\n')\n",
    "\n",
    "for i in range(len(energies)):\n",
    "    f.write('/gps/hist/point '+str(\"%.6f\" % (energies[i]))+' '+str(\"%.6f\" % weights) + '\\n')\n",
    "\n",
    "#f.write('/gps/hist/inter Lin')\n",
    "f.close()"
   ]
  },
  {
   "cell_type": "code",
   "execution_count": null,
   "id": "1b2ebe3a",
   "metadata": {},
   "outputs": [],
   "source": []
  }
 ],
 "metadata": {
  "kernelspec": {
   "display_name": "Python 3 (ipykernel)",
   "language": "python",
   "name": "python3"
  },
  "language_info": {
   "codemirror_mode": {
    "name": "ipython",
    "version": 3
   },
   "file_extension": ".py",
   "mimetype": "text/x-python",
   "name": "python",
   "nbconvert_exporter": "python",
   "pygments_lexer": "ipython3",
   "version": "3.8.10"
  }
 },
 "nbformat": 4,
 "nbformat_minor": 5
}
