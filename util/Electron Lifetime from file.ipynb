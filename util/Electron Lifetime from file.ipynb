{
 "cells": [
  {
   "cell_type": "code",
   "execution_count": 58,
   "id": "cb0a310d",
   "metadata": {},
   "outputs": [],
   "source": [
    "import numpy as np\n",
    "import matplotlib.pyplot as plt\n",
    "import h5py"
   ]
  },
  {
   "cell_type": "code",
   "execution_count": 3,
   "id": "1763f8f7",
   "metadata": {},
   "outputs": [
    {
     "data": {
      "text/plain": [
       "['electron_lifetime_central_value',\n",
       " 'electron_lifetime_lower_bound',\n",
       " 'electron_lifetime_upper_bound']"
      ]
     },
     "execution_count": 3,
     "metadata": {},
     "output_type": "execute_result"
    }
   ],
   "source": [
    "f = np.load('ElecLifetimeFit_Module0.npz')\n",
    "list(f.keys())"
   ]
  },
  {
   "cell_type": "code",
   "execution_count": 33,
   "id": "c8ad7787",
   "metadata": {},
   "outputs": [],
   "source": [
    "# get lifetimes from file\n",
    "times = []\n",
    "elifetimes_central_value = []\n",
    "for time, elifetime in f['electron_lifetime_central_value']:\n",
    "    times.append(time)\n",
    "    elifetimes_central_value.append(elifetime)\n",
    "    \n",
    "elifetimes_errorbar = np.zeros((2, len(elifetimes_central_value)))\n",
    "for i, upper_bound in enumerate(f['electron_lifetime_upper_bound']):\n",
    "    elifetimes_errorbar[1, i] = upper_bound[1] - elifetimes_central_value[i]\n",
    "    \n",
    "for i, lower_bound in enumerate(f['electron_lifetime_lower_bound']):\n",
    "    elifetimes_errorbar[0, i] = elifetimes_central_value[i] - lower_bound[1]"
   ]
  },
  {
   "cell_type": "code",
   "execution_count": 62,
   "id": "ec281e09",
   "metadata": {},
   "outputs": [],
   "source": [
    "data_filepath = '/sdf/group/neutrino/sfogarty/ND_prototype_files/charge_data/module-0/radiologicals_study/reco/datalog_2021_04_04_20_59_11_CEST_clusters.h5'\n",
    "data_file = h5py.File(data_filepath, 'r')\n",
    "clusters = data_file['clusters']\n",
    "unique_unix = np.unique(clusters['unix'])"
   ]
  },
  {
   "cell_type": "code",
   "execution_count": 77,
   "id": "c48134e6",
   "metadata": {},
   "outputs": [
    {
     "data": {
      "text/plain": [
       "<matplotlib.legend.Legend at 0x7fcd7ec76fd0>"
      ]
     },
     "execution_count": 77,
     "metadata": {},
     "output_type": "execute_result"
    },
    {
     "data": {
      "application/vnd.jupyter.widget-view+json": {
       "model_id": "579eb44bc819409183e8ad633362215c",
       "version_major": 2,
       "version_minor": 0
      },
      "text/html": [
       "\n",
       "            <div style=\"display: inline-block;\">\n",
       "                <div class=\"jupyter-widgets widget-label\" style=\"text-align: center;\">\n",
       "                    Figure\n",
       "                </div>\n",
       "                <img src='data:image/png;base64,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' width=640.0/>\n",
       "            </div>\n",
       "        "
      ],
      "text/plain": [
       "Canvas(toolbar=Toolbar(toolitems=[('Home', 'Reset original view', 'home', 'home'), ('Back', 'Back to previous …"
      ]
     },
     "metadata": {},
     "output_type": "display_data"
    }
   ],
   "source": [
    "%matplotlib widget\n",
    "plt.plot(times[::5], elifetimes_central_value[::5], 'bo', markersize=1)\n",
    "elifetimes_interp = np.interp(unique_unix, times, elifetimes_central_value)\n",
    "plt.plot(unique_unix, elifetimes_interp, 'r-', label = f'Avg Lifetime = {np.mean(elifetimes_interp):.2f} \\n at unix = {np.mean(unique_unix)}')\n",
    "plt.title('Estimated Electron Lifetime Module-0 Run 1')\n",
    "plt.legend()\n",
    "#plt.errorbar(times, elifetimes_central_value, yerr=elifetimes_errorbar,color='k',fmt='o',markersize = 0.1)"
   ]
  },
  {
   "cell_type": "code",
   "execution_count": 53,
   "id": "edcd91ef",
   "metadata": {},
   "outputs": [
    {
     "name": "stdout",
     "output_type": "stream",
     "text": [
      "TGraph names in the file:\n",
      "TGraph Name: Graph\n",
      "TGraph Name: Graph\n",
      "TGraph Name: Graph\n"
     ]
    }
   ],
   "source": [
    "import ROOT\n",
    "file = ROOT.TFile.Open('ElecLifetimeFit_Module0.root', 'READ')\n",
    "# Print the names of the TGraphs\n",
    "print(\"TGraph names in the file:\")\n",
    "for key in file.GetListOfKeys():\n",
    "    obj = key.ReadObj()\n",
    "    if isinstance(obj, ROOT.TGraph):\n",
    "        print(f\"TGraph Name: {obj.GetName()}\")\n",
    "\n",
    "\n",
    "# Access a specific TGraph by name\n",
    "tgraph_name = \"electron_lifetime\"  # Replace with the name of the TGraph you want to access\n",
    "tgraph = file.Get(tgraph_name)\n",
    "\n",
    "# Get the number of points in the TGraph\n",
    "num_points = tgraph.GetN()\n",
    "\n",
    "# Access the x and y values of the TGraph\n",
    "x_values = tgraph.GetX()\n",
    "y_values = tgraph.GetY()\n",
    "\n",
    "# Loop over the points and retrieve the values\n",
    "for i in range(num_points):\n",
    "    x = x_values[i]\n",
    "    y = y_values[i]\n",
    "    print(f\"Point {i}: x = {x}, y = {y}\")\n",
    "\n",
    "# Close the ROOT file\n",
    "file.Close()\n"
   ]
  },
  {
   "cell_type": "code",
   "execution_count": 54,
   "id": "a4292d02",
   "metadata": {},
   "outputs": [
    {
     "ename": "AttributeError",
     "evalue": "'TObject' object has no attribute 'GetN'",
     "output_type": "error",
     "traceback": [
      "\u001b[0;31m---------------------------------------------------------------------------\u001b[0m",
      "\u001b[0;31mAttributeError\u001b[0m                            Traceback (most recent call last)",
      "\u001b[0;32m/tmp/ipykernel_137472/2856987000.py\u001b[0m in \u001b[0;36m<module>\u001b[0;34m\u001b[0m\n\u001b[1;32m      4\u001b[0m \u001b[0;34m\u001b[0m\u001b[0m\n\u001b[1;32m      5\u001b[0m \u001b[0;31m# Get the number of points in the TGraph\u001b[0m\u001b[0;34m\u001b[0m\u001b[0;34m\u001b[0m\u001b[0;34m\u001b[0m\u001b[0m\n\u001b[0;32m----> 6\u001b[0;31m \u001b[0mnum_points\u001b[0m \u001b[0;34m=\u001b[0m \u001b[0mtgraph\u001b[0m\u001b[0;34m.\u001b[0m\u001b[0mGetN\u001b[0m\u001b[0;34m(\u001b[0m\u001b[0;34m)\u001b[0m\u001b[0;34m\u001b[0m\u001b[0;34m\u001b[0m\u001b[0m\n\u001b[0m\u001b[1;32m      7\u001b[0m \u001b[0;34m\u001b[0m\u001b[0m\n\u001b[1;32m      8\u001b[0m \u001b[0;31m# Access the x and y values of the TGraph\u001b[0m\u001b[0;34m\u001b[0m\u001b[0;34m\u001b[0m\u001b[0;34m\u001b[0m\u001b[0m\n",
      "\u001b[0;31mAttributeError\u001b[0m: 'TObject' object has no attribute 'GetN'"
     ]
    }
   ],
   "source": []
  },
  {
   "cell_type": "code",
   "execution_count": null,
   "id": "722d4925",
   "metadata": {},
   "outputs": [],
   "source": []
  }
 ],
 "metadata": {
  "kernelspec": {
   "display_name": "Python 3 (ipykernel)",
   "language": "python",
   "name": "python3"
  },
  "language_info": {
   "codemirror_mode": {
    "name": "ipython",
    "version": 3
   },
   "file_extension": ".py",
   "mimetype": "text/x-python",
   "name": "python",
   "nbconvert_exporter": "python",
   "pygments_lexer": "ipython3",
   "version": "3.8.10"
  }
 },
 "nbformat": 4,
 "nbformat_minor": 5
}
